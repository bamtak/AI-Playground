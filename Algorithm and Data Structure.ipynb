{
  "nbformat": 4,
  "nbformat_minor": 0,
  "metadata": {
    "colab": {
      "name": "Algorithm and Data Structure.ipynb",
      "provenance": [],
      "include_colab_link": true
    },
    "kernelspec": {
      "name": "python3",
      "display_name": "Python 3"
    }
  },
  "cells": [
    {
      "cell_type": "markdown",
      "metadata": {
        "id": "view-in-github",
        "colab_type": "text"
      },
      "source": [
        "<a href=\"https://colab.research.google.com/github/bamtak/AI-Playground/blob/master/Algorithm%20and%20Data%20Structure.ipynb\" target=\"_parent\"><img src=\"https://colab.research.google.com/assets/colab-badge.svg\" alt=\"Open In Colab\"/></a>"
      ]
    },
    {
      "cell_type": "markdown",
      "metadata": {
        "id": "82PpLyI-AWIj",
        "colab_type": "text"
      },
      "source": [
        "## Divide and Conquer"
      ]
    },
    {
      "cell_type": "markdown",
      "metadata": {
        "id": "pq0xnN-8fkDa",
        "colab_type": "text"
      },
      "source": [
        "**Merge Sort Implementation**"
      ]
    },
    {
      "cell_type": "code",
      "metadata": {
        "id": "9Z0h042xATjU",
        "colab_type": "code",
        "outputId": "11124abb-42fd-4b8c-9ecc-f55d7533ca50",
        "colab": {
          "base_uri": "https://localhost:8080/",
          "height": 34
        }
      },
      "source": [
        "\n",
        "def merge(arr, arr2):\n",
        "  j = 0\n",
        "  i = 0\n",
        "  result = []\n",
        "  while(len(result) < len(arr) + len(arr2)):\n",
        "    if(arr[i] < arr2[j]):\n",
        "      result.append(arr[i])\n",
        "      i += 1\n",
        "    elif(arr2[j] < arr[i]):\n",
        "      result.append(arr2[j])\n",
        "      j += 1\n",
        "    if (i == len(arr)) : \n",
        "      result += arr2[j:]\n",
        "    if (j == len(arr2)) : \n",
        "      result += arr[i:]\n",
        "  return result\n",
        "\n",
        "def swap(arr, i, j):\n",
        "  if(arr[j] < arr[i] and j > i):\n",
        "    arr[i], arr[j] = arr[j], arr[i]\n",
        "  return arr\n",
        "\n",
        "def merge_sort(arr):\n",
        "  l = len(arr)\n",
        "  if l < 2 : return arr\n",
        "  if l== 2: return swap(arr, 0, 1)\n",
        "  mid = l//2\n",
        "  return merge(merge_sort(arr[:mid]), merge_sort(arr[mid:]))\n",
        "print(merge_sort([10,4,2,5,3,1,6,8,7,9]))"
      ],
      "execution_count": 0,
      "outputs": [
        {
          "output_type": "stream",
          "text": [
            "[1, 2, 3, 4, 5, 6, 7, 8, 9, 10]\n"
          ],
          "name": "stdout"
        }
      ]
    },
    {
      "cell_type": "markdown",
      "metadata": {
        "id": "JfCaP9INfoLu",
        "colab_type": "text"
      },
      "source": [
        "**Quick Sort Implementation**"
      ]
    },
    {
      "cell_type": "code",
      "metadata": {
        "id": "pYrWKlQcKTtc",
        "colab_type": "code",
        "colab": {
          "base_uri": "https://localhost:8080/",
          "height": 34
        },
        "outputId": "3a4157e7-2ab9-4089-a7d5-ac1735347a9b"
      },
      "source": [
        "\n",
        "def swap(arr, i, j):\n",
        "  arr[i] , arr[j] = arr[j], arr[i]\n",
        "\n",
        "def quick_sort(arr):\n",
        "  quick_sort_helper(arr, 0, len(arr) - 1)\n",
        "  return arr\n",
        "\n",
        "def quick_sort_helper(arr, start, end):\n",
        "  pivot = end\n",
        "  cur = start\n",
        "  if end - start == 1 and arr[start] > arr[end]:\n",
        "    swap(arr, start, end)\n",
        "  if end - start > 1:\n",
        "    while cur < pivot:\n",
        "      if arr[cur] > arr[pivot]:\n",
        "        swap(arr, pivot-1, pivot)\n",
        "        if pivot-1 > cur:\n",
        "          swap(arr, pivot, cur)\n",
        "        pivot -= 1\n",
        "      else: cur += 1\n",
        "    quick_sort_helper(arr, start, pivot-1)\n",
        "    quick_sort_helper(arr, pivot+1, end)\n",
        "\n",
        "\n",
        "quick_sort([10,4,2,5,3,1,6,8,7,9])\n"
      ],
      "execution_count": 4,
      "outputs": [
        {
          "output_type": "execute_result",
          "data": {
            "text/plain": [
              "[1, 2, 3, 4, 5, 6, 7, 8, 9, 10]"
            ]
          },
          "metadata": {
            "tags": []
          },
          "execution_count": 4
        }
      ]
    },
    {
      "cell_type": "markdown",
      "metadata": {
        "id": "i4QuPGQronjT",
        "colab_type": "text"
      },
      "source": [
        "**Graph Implementation**"
      ]
    },
    {
      "cell_type": "code",
      "metadata": {
        "id": "oLNuXsuSn8Or",
        "colab_type": "code",
        "colab": {
          "base_uri": "https://localhost:8080/",
          "height": 68
        },
        "outputId": "e6242af0-0316-4414-b25e-33af068b31c5"
      },
      "source": [
        "class Node(object):\n",
        "    def __init__(self, value):\n",
        "        self.value = value\n",
        "        self.edges = []\n",
        "\n",
        "class Edge(object):\n",
        "\n",
        "    def __init__(self, value, node_from, node_to):\n",
        "        self.value = value\n",
        "        self.node_from = node_from\n",
        "        self.node_to = node_to\n",
        "\n",
        "    def get(self):\n",
        "        return (self.value, self.node_from.value, self.node_to.value)\n",
        "\n",
        "class Graph(object):\n",
        "    def __init__(self, nodes=[], edges=[]):\n",
        "        self.nodes = nodes\n",
        "        self.edges = edges\n",
        "\n",
        "    def insert_node(self, new_node_val):\n",
        "        new_node = Node(new_node_val)\n",
        "        self.nodes.append(new_node)\n",
        "        \n",
        "    def insert_edge(self, new_edge_val, node_from_val, node_to_val):\n",
        "        from_found = None\n",
        "        to_found = None\n",
        "        for node in self.nodes:\n",
        "            if node_from_val == node.value:\n",
        "                from_found = node\n",
        "            if node_to_val == node.value:\n",
        "                to_found = node\n",
        "        if from_found == None:\n",
        "            from_found = Node(node_from_val)\n",
        "            self.nodes.append(from_found)\n",
        "        if to_found == None:\n",
        "            to_found = Node(node_to_val)\n",
        "            self.nodes.append(to_found)\n",
        "        new_edge = Edge(new_edge_val, from_found, to_found)\n",
        "        from_found.edges.append(new_edge)\n",
        "        to_found.edges.append(new_edge)\n",
        "        self.edges.append(new_edge)\n",
        "\n",
        "    def get_edge_list(self):\n",
        "        return [edge.get() for edge in self.edges]\n",
        "\n",
        "    def get_adjacency_list(self):\n",
        "        adjacency_list = [None] * (self.find_max_index() + 1)\n",
        "        for edge in self.edges:\n",
        "          val, n_from, n_to = edge.get()\n",
        "          if not adjacency_list[n_from] :  adjacency_list[n_from] = []\n",
        "          adjacency_list[n_from].append((n_to, val))\n",
        "        return adjacency_list\n",
        "    \n",
        "    def get_adjacency_matrix(self):\n",
        "        nodeLength = (self.find_max_index() + 1)\n",
        "        adjacency_matrix = [[0 for i in range(nodeLength)] for j in range(nodeLength)]\n",
        "        for edge in self.edges:\n",
        "          val, n_from, n_to = edge.get()\n",
        "          adjacency_matrix[n_from][n_to] = val\n",
        "        return adjacency_matrix\n",
        "        \n",
        "    def find_max_index(self):\n",
        "      max_ind = -1\n",
        "      for node in self.nodes:\n",
        "        if (node.value > max_ind): max_ind = node.value\n",
        "      return max_ind\n",
        "\n",
        "graph = Graph()\n",
        "graph.insert_edge(100, 1, 2)\n",
        "graph.insert_edge(101, 1, 3)\n",
        "graph.insert_edge(102, 1, 4)\n",
        "graph.insert_edge(103, 3, 4)\n",
        "# Should be [(100, 1, 2), (101, 1, 3), (102, 1, 4), (103, 3, 4)]\n",
        "print (graph.get_edge_list())\n",
        "# Should be [None, [(2, 100), (3, 101), (4, 102)], None, [(4, 103)], None]\n",
        "print (graph.get_adjacency_list())\n",
        "# Should be [[0, 0, 0, 0, 0], [0, 0, 100, 101, 102], [0, 0, 0, 0, 0], [0, 0, 0, 0, 103], [0, 0, 0, 0, 0]]\n",
        "print (graph.get_adjacency_matrix())"
      ],
      "execution_count": 10,
      "outputs": [
        {
          "output_type": "stream",
          "text": [
            "[(100, 1, 2), (101, 1, 3), (102, 1, 4), (103, 3, 4)]\n",
            "[None, [(2, 100), (3, 101), (4, 102)], None, [(4, 103)], None]\n",
            "[[0, 0, 0, 0, 0], [0, 0, 100, 101, 102], [0, 0, 0, 0, 0], [0, 0, 0, 0, 103], [0, 0, 0, 0, 0]]\n"
          ],
          "name": "stdout"
        }
      ]
    },
    {
      "cell_type": "markdown",
      "metadata": {
        "id": "F04WpbPlT6k6",
        "colab_type": "text"
      },
      "source": [
        "**Breath First Search and Depth First Search Implementation**"
      ]
    },
    {
      "cell_type": "code",
      "metadata": {
        "id": "36zdXX3gT4gt",
        "colab_type": "code",
        "colab": {
          "base_uri": "https://localhost:8080/",
          "height": 714
        },
        "outputId": "6113784d-e4e4-45bb-8425-dd8ecb29f31a"
      },
      "source": [
        "from collections import deque\n",
        "class Node(object):\n",
        "    def __init__(self, value):\n",
        "        self.value = value\n",
        "        self.edges = []\n",
        "        self.visited = False\n",
        "\n",
        "class Edge(object):\n",
        "    def __init__(self, value, node_from, node_to):\n",
        "        self.value = value\n",
        "        self.node_from = node_from\n",
        "        self.node_to = node_to\n",
        "\n",
        "# You only need to change code with docs strings that have TODO.\n",
        "# Specifically: Graph.dfs_helper and Graph.bfs\n",
        "# New methods have been added to associate node numbers with names\n",
        "# Specifically: Graph.set_node_names\n",
        "# and the methods ending in \"_names\" which will print names instead\n",
        "# of node numbers\n",
        "\n",
        "class Graph(object):\n",
        "    def __init__(self, nodes=None, edges=None):\n",
        "        self.nodes = nodes or []\n",
        "        self.edges = edges or []\n",
        "        self.node_names = []\n",
        "        self._node_map = {}\n",
        "\n",
        "    def set_node_names(self, names):\n",
        "        \"\"\"The Nth name in names should correspond to node number N.\n",
        "        Node numbers are 0 based (starting at 0).\n",
        "        \"\"\"\n",
        "        self.node_names = list(names)\n",
        "\n",
        "    def insert_node(self, new_node_val):\n",
        "        \"Insert a new node with value new_node_val\"\n",
        "        new_node = Node(new_node_val)\n",
        "        self.nodes.append(new_node)\n",
        "        self._node_map[new_node_val] = new_node\n",
        "        return new_node\n",
        "\n",
        "    def insert_edge(self, new_edge_val, node_from_val, node_to_val):\n",
        "        \"Insert a new edge, creating new nodes if necessary\"\n",
        "        nodes = {node_from_val: None, node_to_val: None}\n",
        "        for node in self.nodes:\n",
        "            if node.value in nodes:\n",
        "                nodes[node.value] = node\n",
        "                if all(nodes.values()):\n",
        "                    break\n",
        "        for node_val in nodes:\n",
        "            nodes[node_val] = nodes[node_val] or self.insert_node(node_val)\n",
        "        node_from = nodes[node_from_val]\n",
        "        node_to = nodes[node_to_val]\n",
        "        new_edge = Edge(new_edge_val, node_from, node_to)\n",
        "        node_from.edges.append(new_edge)\n",
        "        node_to.edges.append(new_edge)\n",
        "        self.edges.append(new_edge)\n",
        "\n",
        "    def get_edge_list(self):\n",
        "        \"\"\"Return a list of triples that looks like this:\n",
        "        (Edge Value, From Node, To Node)\"\"\"\n",
        "        return [(e.value, e.node_from.value, e.node_to.value)\n",
        "                for e in self.edges]\n",
        "\n",
        "    def get_edge_list_names(self):\n",
        "        \"\"\"Return a list of triples that looks like this:\n",
        "        (Edge Value, From Node Name, To Node Name)\"\"\"\n",
        "        return [(edge.value,\n",
        "                 self.node_names[edge.node_from.value],\n",
        "                 self.node_names[edge.node_to.value])\n",
        "                for edge in self.edges]\n",
        "\n",
        "    def get_adjacency_list(self):\n",
        "        \"\"\"Return a list of lists.\n",
        "        The indecies of the outer list represent \"from\" nodes.\n",
        "        Each section in the list will store a list\n",
        "        of tuples that looks like this:\n",
        "        (To Node, Edge Value)\"\"\"\n",
        "        max_index = self.find_max_index()\n",
        "        adjacency_list = [[] for _ in range(max_index)]\n",
        "        for edg in self.edges:\n",
        "            from_value, to_value = edg.node_from.value, edg.node_to.value\n",
        "            adjacency_list[from_value].append((to_value, edg.value))\n",
        "        return [a or None for a in adjacency_list] # replace []'s with None\n",
        "\n",
        "    def get_adjacency_list_names(self):\n",
        "        \"\"\"Each section in the list will store a list\n",
        "        of tuples that looks like this:\n",
        "        (To Node Name, Edge Value).\n",
        "        Node names should come from the names set\n",
        "        with set_node_names.\"\"\"\n",
        "        adjacency_list = self.get_adjacency_list()\n",
        "        def convert_to_names(pair, graph=self):\n",
        "            node_number, value = pair\n",
        "            return (graph.node_names[node_number], value)\n",
        "        def map_conversion(adjacency_list_for_node):\n",
        "            if adjacency_list_for_node is None:\n",
        "                return None\n",
        "            return map(convert_to_names, adjacency_list_for_node)\n",
        "        return [map_conversion(adjacency_list_for_node)\n",
        "                for adjacency_list_for_node in adjacency_list]\n",
        "\n",
        "    def get_adjacency_matrix(self):\n",
        "        \"\"\"Return a matrix, or 2D list.\n",
        "        Row numbers represent from nodes,\n",
        "        column numbers represent to nodes.\n",
        "        Store the edge values in each spot,\n",
        "        and a 0 if no edge exists.\"\"\"\n",
        "        max_index = self.find_max_index()\n",
        "        adjacency_matrix = [[0] * (max_index) for _ in range(max_index)]\n",
        "        for edg in self.edges:\n",
        "            from_index, to_index = edg.node_from.value, edg.node_to.value\n",
        "            adjacency_matrix[from_index][to_index] = edg.value\n",
        "        return adjacency_matrix\n",
        "\n",
        "    def find_max_index(self):\n",
        "        \"\"\"Return the highest found node number\n",
        "        Or the length of the node names if set with set_node_names().\"\"\"\n",
        "        if len(self.node_names) > 0:\n",
        "            return len(self.node_names)\n",
        "        max_index = -1\n",
        "        if len(self.nodes):\n",
        "            for node in self.nodes:\n",
        "                if node.value > max_index:\n",
        "                    max_index = node.value\n",
        "        return max_index\n",
        "\n",
        "    def find_node(self, node_number):\n",
        "        \"Return the node with value node_number or None\"\n",
        "        return self._node_map.get(node_number)\n",
        "    \n",
        "    def _clear_visited(self):\n",
        "        for node in self.nodes:\n",
        "            node.visited = False\n",
        "\n",
        "    def dfs_helper(self, start_node):\n",
        "        \"\"\"TODO: Write the helper function for a recursive implementation\n",
        "        of Depth First Search iterating through a node's edges. The\n",
        "        output should be a list of numbers corresponding to the\n",
        "        values of the traversed nodes.\n",
        "        ARGUMENTS: start_node is the starting Node\n",
        "        MODIFIES: the value of the visited property of nodes in self.nodes \n",
        "        RETURN: a list of the traversed node values (integers).\n",
        "        \"\"\"\n",
        "        explored = [start_node.value]\n",
        "        start_node.visited = True\n",
        "        nodes = [e.node_to for e in start_node.edges if e.node_to.value!=start_node.value]\n",
        "        for n in nodes:\n",
        "            if not n.visited :\n",
        "                explored.extend(self.dfs_helper(n))\n",
        "        # Your code here\n",
        "        return explored\n",
        "\n",
        "    def dfs(self, start_node_num):\n",
        "        \"\"\"Outputs a list of numbers corresponding to the traversed nodes\n",
        "        in a Depth First Search.\n",
        "        ARGUMENTS: start_node_num is the starting node number (integer)\n",
        "        MODIFIES: the value of the visited property of nodes in self.nodes\n",
        "        RETURN: a list of the node values (integers).\"\"\"\n",
        "        self._clear_visited()\n",
        "        start_node = self.find_node(start_node_num)\n",
        "        return self.dfs_helper(start_node)\n",
        "\n",
        "    def dfs_names(self, start_node_num):\n",
        "        \"\"\"Return the results of dfs with numbers converted to names.\"\"\"\n",
        "        return [self.node_names[num] for num in self.dfs(start_node_num)]\n",
        "\n",
        "    def bfs(self, start_node_num):\n",
        "        \"\"\"TODO: Create an iterative implementation of Breadth First Search\n",
        "        iterating through a node's edges. The output should be a list of\n",
        "        numbers corresponding to the traversed nodes.\n",
        "        ARGUMENTS: start_node_num is the node number (integer)\n",
        "        MODIFIES: the value of the visited property of nodes in self.nodes\n",
        "        RETURN: a list of the node values (integers).\"\"\"\n",
        "        node = self.find_node(start_node_num)\n",
        "        self._clear_visited()\n",
        "        # Your code here\n",
        "        explored = [node.value]\n",
        "        toExplored = []\n",
        "        node.visited = True\n",
        "        \n",
        "        def addtoExplore(e, toExplored = toExplored):\n",
        "            for edge in e :\n",
        "                if not edge.node_to.visited:\n",
        "                    toExplored.append(edge.node_to)\n",
        "        \n",
        "        addtoExplore(node.edges)\n",
        "            \n",
        "        while (toExplored) :\n",
        "            node = toExplored.pop(0)\n",
        "            if node.value not in explored:\n",
        "                explored.append(node.value)\n",
        "                addtoExplore(node.edges)\n",
        "        return explored\n",
        "\n",
        "    def bfs_names(self, start_node_num):\n",
        "        \"\"\"Return the results of bfs with numbers converted to names.\"\"\"\n",
        "        return [self.node_names[num] for num in self.bfs(start_node_num)]\n",
        "\n",
        "graph = Graph()\n",
        "\n",
        "# You do not need to change anything below this line.\n",
        "# You only need to implement Graph.dfs_helper and Graph.bfs\n",
        "\n",
        "graph.set_node_names(('Mountain View',   # 0\n",
        "                      'San Francisco',   # 1\n",
        "                      'London',          # 2\n",
        "                      'Shanghai',        # 3\n",
        "                      'Berlin',          # 4\n",
        "                      'Sao Paolo',       # 5\n",
        "                      'Bangalore'))      # 6 \n",
        "\n",
        "graph.insert_edge(51, 0, 1)     # MV <-> SF\n",
        "graph.insert_edge(51, 1, 0)     # SF <-> MV\n",
        "graph.insert_edge(9950, 0, 3)   # MV <-> Shanghai\n",
        "graph.insert_edge(9950, 3, 0)   # Shanghai <-> MV\n",
        "graph.insert_edge(10375, 0, 5)  # MV <-> Sao Paolo\n",
        "graph.insert_edge(10375, 5, 0)  # Sao Paolo <-> MV\n",
        "graph.insert_edge(9900, 1, 3)   # SF <-> Shanghai\n",
        "graph.insert_edge(9900, 3, 1)   # Shanghai <-> SF\n",
        "graph.insert_edge(9130, 1, 4)   # SF <-> Berlin\n",
        "graph.insert_edge(9130, 4, 1)   # Berlin <-> SF\n",
        "graph.insert_edge(9217, 2, 3)   # London <-> Shanghai\n",
        "graph.insert_edge(9217, 3, 2)   # Shanghai <-> London\n",
        "graph.insert_edge(932, 2, 4)    # London <-> Berlin\n",
        "graph.insert_edge(932, 4, 2)    # Berlin <-> London\n",
        "graph.insert_edge(9471, 2, 5)   # London <-> Sao Paolo\n",
        "graph.insert_edge(9471, 5, 2)   # Sao Paolo <-> London\n",
        "# (6) 'Bangalore' is intentionally disconnected (no edges)\n",
        "# for this problem and should produce None in the\n",
        "# Adjacency List, etc.\n",
        "\n",
        "import pprint\n",
        "pp = pprint.PrettyPrinter(indent=2)\n",
        "\n",
        "print (\"Edge List\")\n",
        "pp.pprint(graph.get_edge_list_names())\n",
        "\n",
        "print (\"\\nAdjacency List\")\n",
        "pp.pprint(graph.get_adjacency_list_names())\n",
        "\n",
        "print (\"\\nAdjacency Matrix\")\n",
        "pp.pprint(graph.get_adjacency_matrix())\n",
        "\n",
        "print (\"\\nDepth First Search\")\n",
        "pp.pprint(graph.dfs_names(2))\n",
        "\n",
        "# Should print:\n",
        "# Depth First Search\n",
        "# ['London', 'Shanghai', 'Mountain View', 'San Francisco', 'Berlin', 'Sao Paolo']\n",
        "\n",
        "print (\"\\nBreadth First Search\")\n",
        "pp.pprint(graph.bfs_names(2))\n",
        "# test error reporting\n",
        "# pp.pprint(['Sao Paolo', 'Mountain View', 'San Francisco', 'London', 'Shanghai', 'Berlin'])\n",
        "\n",
        "# Should print:\n",
        "# Breadth First Search\n",
        "# ['London', 'Shanghai', 'Berlin', 'Sao Paolo', 'Mountain View', 'San Francisco']"
      ],
      "execution_count": 20,
      "outputs": [
        {
          "output_type": "stream",
          "text": [
            "Edge List\n",
            "[ (51, 'Mountain View', 'San Francisco'),\n",
            "  (51, 'San Francisco', 'Mountain View'),\n",
            "  (9950, 'Mountain View', 'Shanghai'),\n",
            "  (9950, 'Shanghai', 'Mountain View'),\n",
            "  (10375, 'Mountain View', 'Sao Paolo'),\n",
            "  (10375, 'Sao Paolo', 'Mountain View'),\n",
            "  (9900, 'San Francisco', 'Shanghai'),\n",
            "  (9900, 'Shanghai', 'San Francisco'),\n",
            "  (9130, 'San Francisco', 'Berlin'),\n",
            "  (9130, 'Berlin', 'San Francisco'),\n",
            "  (9217, 'London', 'Shanghai'),\n",
            "  (9217, 'Shanghai', 'London'),\n",
            "  (932, 'London', 'Berlin'),\n",
            "  (932, 'Berlin', 'London'),\n",
            "  (9471, 'London', 'Sao Paolo'),\n",
            "  (9471, 'Sao Paolo', 'London')]\n",
            "\n",
            "Adjacency List\n",
            "[ <map object at 0x7f4fb9e03c50>,\n",
            "  <map object at 0x7f4fb9e03828>,\n",
            "  <map object at 0x7f4fb9e03b38>,\n",
            "  <map object at 0x7f4fb9e03ac8>,\n",
            "  <map object at 0x7f4fb9e03a58>,\n",
            "  <map object at 0x7f4fb9e03c88>,\n",
            "  None]\n",
            "\n",
            "Adjacency Matrix\n",
            "[ [0, 51, 0, 9950, 0, 10375, 0],\n",
            "  [51, 0, 0, 9900, 9130, 0, 0],\n",
            "  [0, 0, 0, 9217, 932, 9471, 0],\n",
            "  [9950, 9900, 9217, 0, 0, 0, 0],\n",
            "  [0, 9130, 932, 0, 0, 0, 0],\n",
            "  [10375, 0, 9471, 0, 0, 0, 0],\n",
            "  [0, 0, 0, 0, 0, 0, 0]]\n",
            "\n",
            "Depth First Search\n",
            "['London', 'Shanghai', 'Mountain View', 'San Francisco', 'Berlin', 'Sao Paolo']\n",
            "\n",
            "Breadth First Search\n",
            "['London', 'Shanghai', 'Berlin', 'Sao Paolo', 'Mountain View', 'San Francisco']\n"
          ],
          "name": "stdout"
        }
      ]
    },
    {
      "cell_type": "markdown",
      "metadata": {
        "id": "1cXLKntuIfOQ",
        "colab_type": "text"
      },
      "source": [
        "### The closest pair of points problem or closest pair problem \n",
        "given n points in metric space, find a pair of points with the smallest distance between them."
      ]
    },
    {
      "cell_type": "code",
      "metadata": {
        "id": "Oz-y4JIUZ-bM",
        "colab_type": "code",
        "outputId": "0b62a5ac-b252-41fd-94bc-61aae14bb949",
        "colab": {
          "base_uri": "https://localhost:8080/",
          "height": 51
        }
      },
      "source": [
        "def count_swap_to_sort_brute(arr):\n",
        "\n",
        "  pass\n",
        "\n",
        "def count_swap_to_sort_divide_and_conquer(arr):\n",
        "  pass\n",
        "\n",
        "print(count_swap_to_sort_brute([10,4,2,5,3,1,6,8,7,9]))\n",
        "print(count_swap_to_sort_divide_and_conquer([10,4,2,5,3,1,6,8,7,9]))"
      ],
      "execution_count": 0,
      "outputs": [
        {
          "output_type": "stream",
          "text": [
            "None\n",
            "None\n"
          ],
          "name": "stdout"
        }
      ]
    },
    {
      "cell_type": "code",
      "metadata": {
        "id": "1c_TuJN1Ch8a",
        "colab_type": "code",
        "outputId": "348c04bb-065c-45b7-8baa-bf63c583e71f",
        "colab": {
          "base_uri": "https://localhost:8080/",
          "height": 68
        }
      },
      "source": [
        "import math\n",
        "\n",
        "\n",
        "def euclidian_dist(point_pair):\n",
        "  p1,p2 = point_pair\n",
        "  return math.sqrt((p1[0] - p2[0])**2 + (p1[1] - p2[1])**2 )\n",
        "\n",
        "\n",
        "def clossest_pair_brute_force(arr):\n",
        "  closset_pair = []\n",
        "  min_dist = float('inf')\n",
        "  for i in range(len(arr)):\n",
        "    for j in range(i+1, len(arr)):\n",
        "      dist = euclidian_dist((arr[i], arr[j]))\n",
        "      if min_dist > dist:\n",
        "        min_dist = dist\n",
        "        closset_pair = [arr[i], arr[j]]\n",
        "  return closset_pair\n",
        "\n",
        "\n",
        "def merge_x_coordinate(arr, arr2):\n",
        "  j = 0\n",
        "  i = 0\n",
        "  result = []\n",
        "  while(len(result) < len(arr) + len(arr2)):\n",
        "    if(arr[i][0] < arr2[j][0]):\n",
        "      result.append(arr[i])\n",
        "      i += 1\n",
        "    elif(arr2[j][0] < arr[i][0]):\n",
        "      result.append(arr2[j])\n",
        "      j += 1\n",
        "    if (i == len(arr)) : \n",
        "      result += arr2[j:]\n",
        "    if (j == len(arr2)) : \n",
        "      result += arr[i:]\n",
        "  return result\n",
        "def swap_x_coordinate(arr, i, j):\n",
        "  if(arr[j][0] < arr[i][0] and j > i):\n",
        "    arr[i], arr[j] = arr[j], arr[i]\n",
        "  return arr\n",
        "\n",
        "def merge_sort_x_coordinate(arr):\n",
        "  l = len(arr)\n",
        "  if l < 2 : return arr\n",
        "  if l== 2: return swap(arr, 0, 1)\n",
        "  mid = l//2\n",
        "  return merge(merge_sort(arr[:mid]), merge_sort(arr[mid:]))\n",
        "\n",
        "def clossest_pair_divide_conquer(arr):\n",
        "  sorted_pair = merge_sort_x_coordinate(arr)\n",
        "  \n",
        "  pass\n",
        "\n",
        "\n",
        "print(merge_sort_x_coordinate(points))\n",
        "print(clossest_pair_brute_force(points))\n",
        "print(clossest_pair_divide_conquer(points))"
      ],
      "execution_count": 0,
      "outputs": [
        {
          "output_type": "stream",
          "text": [
            "[(2, 3), (3, 4), (5, 1), (12, 10), (12, 30), (40, 50)]\n",
            "[(2, 3), (3, 4)]\n",
            "None\n"
          ],
          "name": "stdout"
        }
      ]
    },
    {
      "cell_type": "code",
      "metadata": {
        "id": "h5-cipdwKYOE",
        "colab_type": "code",
        "colab": {}
      },
      "source": [
        "class Stack:\n",
        "  def __init__(self):\n",
        "    self.items = []\n",
        "\n",
        "  def push(self, item):\n",
        "    self.items.append(item)\n",
        "  \n",
        "  def pop(self):\n",
        "    if self.is_empty(): return\n",
        "    return self.items.pop()\n",
        "\n",
        "  def is_empty(self):\n",
        "    return len(self.items) == 0\n",
        "\n",
        "class Queu:\n",
        "  def __init__(self):\n",
        "    self.items = []\n",
        "\n",
        "  def push(self, item):\n",
        "    self.items.(item)\n",
        "  \n",
        "  def pop(self):\n",
        "    if self.is_empty(): return\n",
        "    return self.items.pop()\n",
        "\n",
        "  def is_empty(self):\n",
        "    return len(self.items) == 0\n",
        "\n",
        "stack = Stack()"
      ],
      "execution_count": 0,
      "outputs": []
    },
    {
      "cell_type": "code",
      "metadata": {
        "id": "zL0uBnp55-cg",
        "colab_type": "code",
        "colab": {}
      },
      "source": [
        "stack.push(6)"
      ],
      "execution_count": 0,
      "outputs": []
    },
    {
      "cell_type": "code",
      "metadata": {
        "id": "odFV9paQ6Ewm",
        "colab_type": "code",
        "colab": {}
      },
      "source": [
        "stack.pop()"
      ],
      "execution_count": 0,
      "outputs": []
    },
    {
      "cell_type": "code",
      "metadata": {
        "id": "ayj-udvF6JCi",
        "colab_type": "code",
        "outputId": "7cce0ce3-12f7-4062-8693-acb210de8557",
        "colab": {
          "base_uri": "https://localhost:8080/",
          "height": 34
        }
      },
      "source": [
        "stack.is_empty()"
      ],
      "execution_count": 0,
      "outputs": [
        {
          "output_type": "execute_result",
          "data": {
            "text/plain": [
              "True"
            ]
          },
          "metadata": {
            "tags": []
          },
          "execution_count": 14
        }
      ]
    },
    {
      "cell_type": "code",
      "metadata": {
        "id": "b1kV_gTS6LZv",
        "colab_type": "code",
        "colab": {}
      },
      "source": [
        "stack.push(6)\n",
        "stack.push(7)\n",
        "stack.push(9)"
      ],
      "execution_count": 0,
      "outputs": []
    },
    {
      "cell_type": "code",
      "metadata": {
        "id": "ea_L7Aad6Q6X",
        "colab_type": "code",
        "outputId": "4e17f39d-5842-4416-c209-2df17ba669af",
        "colab": {
          "base_uri": "https://localhost:8080/",
          "height": 34
        }
      },
      "source": [
        "def reverse(s): return s[::-1]\n",
        "reverse('Hello')"
      ],
      "execution_count": 0,
      "outputs": [
        {
          "output_type": "execute_result",
          "data": {
            "text/plain": [
              "'olleH'"
            ]
          },
          "metadata": {
            "tags": []
          },
          "execution_count": 5
        }
      ]
    },
    {
      "cell_type": "code",
      "metadata": {
        "id": "pDU7Q6nAmtzw",
        "colab_type": "code",
        "colab": {}
      },
      "source": [
        "def f(m):\n",
        "  if m < 2: return m\n",
        "  return f(m-1) + f(m-2)"
      ],
      "execution_count": 0,
      "outputs": []
    },
    {
      "cell_type": "code",
      "metadata": {
        "id": "BuwIVIfyq6wH",
        "colab_type": "code",
        "outputId": "9fe12643-7dbc-4c3f-c208-75fc7b22b5d5",
        "colab": {
          "base_uri": "https://localhost:8080/",
          "height": 34
        }
      },
      "source": [
        "f(6)"
      ],
      "execution_count": 0,
      "outputs": [
        {
          "output_type": "execute_result",
          "data": {
            "text/plain": [
              "8"
            ]
          },
          "metadata": {
            "tags": []
          },
          "execution_count": 14
        }
      ]
    },
    {
      "cell_type": "code",
      "metadata": {
        "id": "q5PrYNTsq8Bu",
        "colab_type": "code",
        "outputId": "e217f76e-9173-4cc1-c00e-17febb49f4d3",
        "colab": {
          "base_uri": "https://localhost:8080/",
          "height": 68
        }
      },
      "source": [
        "class Node:\n",
        "  def __init__(self, data, next=None):\n",
        "    self.data = data\n",
        "    self.next = next\n",
        "  def set_next(self,data):\n",
        "    self.next = Node(data)\n",
        "\n",
        "class LinkedList:\n",
        "\n",
        "  def __init__(self):\n",
        "    self.head = None\n",
        "\n",
        "  def insert(self, data):\n",
        "    if not self.head:\n",
        "      self.head = Node(data)\n",
        "    else:\n",
        "      cur = self.head\n",
        "      while(cur.next):\n",
        "        cur = cur.next\n",
        "      cur.set_next(data)\n",
        "\n",
        "  def print_l(self):\n",
        "    cur = self.head\n",
        "    while(cur): \n",
        "      print(cur.data)\n",
        "      cur = cur.next\n",
        "\n",
        "linkedList = LinkedList()\n",
        "linkedList.insert(6)\n",
        "linkedList.insert(5)\n",
        "linkedList.insert(10)\n",
        "linkedList.print_l()"
      ],
      "execution_count": 0,
      "outputs": [
        {
          "output_type": "stream",
          "text": [
            "6\n",
            "5\n",
            "10\n"
          ],
          "name": "stdout"
        }
      ]
    },
    {
      "cell_type": "code",
      "metadata": {
        "id": "cDl2seib7XcC",
        "colab_type": "code",
        "colab": {}
      },
      "source": [
        "class Node:\n",
        "\n",
        "  def __init__(self, data,prev=None, next=None):\n",
        "    self.data = data\n",
        "    self.next = next\n",
        "    self.prev = prev\n",
        "\n",
        "  def set_next(self,data):\n",
        "    self.next = Node(data, prev=self)\n",
        "\n",
        "  def set_prev(self,data):\n",
        "    self.prev = Node(data, next=self)\n",
        "\n",
        "class DoubleLinkedList:\n",
        "\n",
        "  def __init__(self):\n",
        "    self.head = None\n",
        "\n",
        "  def insert(self, data):\n",
        "    if not self.head:\n",
        "      self.head = Node(data)\n",
        "    else:\n",
        "      cur = self.head\n",
        "      while(cur.next):\n",
        "        cur = cur.next\n",
        "      cur.set_next(data)\n",
        "\n",
        "  def print_l(self):\n",
        "    cur = self.head\n",
        "    while(cur): \n",
        "      print(cur.data)\n",
        "      cur = cur.next"
      ],
      "execution_count": 0,
      "outputs": []
    },
    {
      "cell_type": "code",
      "metadata": {
        "id": "5Lmo_Pf2v1hf",
        "colab_type": "code",
        "colab": {}
      },
      "source": [
        ""
      ],
      "execution_count": 0,
      "outputs": []
    },
    {
      "cell_type": "markdown",
      "metadata": {
        "id": "dAG-8pBomM8E",
        "colab_type": "text"
      },
      "source": [
        "Machine Learning Algorithm Implementation"
      ]
    },
    {
      "cell_type": "code",
      "metadata": {
        "id": "-oNpiilNmNth",
        "colab_type": "code",
        "colab": {}
      },
      "source": [
        "import numpy as np\n",
        "\n",
        "class Perceptron:\n",
        "    def predict(self, X):\n",
        "        return (np.dot(X, self.weights) >= 0) * 1\n",
        "    def fit(self, X, y, itr=100, lr=0.001):\n",
        "        self.weights = np.zeros(X.shape[1])\n",
        "        for _ in range(itr): self.weights += lr * np.dot((y - self.predict(X)), X)\n"
      ],
      "execution_count": 0,
      "outputs": []
    },
    {
      "cell_type": "code",
      "metadata": {
        "id": "ucVJCdMzmWS1",
        "colab_type": "code",
        "colab": {}
      },
      "source": [
        "class Perceptron2:\n",
        "\n",
        "    def predict(self, X):\n",
        "        return np.vectorize(lambda c: self.classes[1] if c >= 0 else self.classes[0])(np.dot(X, self.weights)).astype(int)\n",
        "    \n",
        "    def fit(self, X, y, itr=100, lr=0.001):\n",
        "        self.classes = np.sort(np.unique(y))\n",
        "        self.weights = np.zeros(X.shape[1])\n",
        "        for _ in range(itr): self.weights += lr * np.dot((y - self.predict(X)), X)\n"
      ],
      "execution_count": 0,
      "outputs": []
    },
    {
      "cell_type": "code",
      "metadata": {
        "id": "GQe5Q9nXmb0S",
        "colab_type": "code",
        "colab": {}
      },
      "source": [
        "class LinearRegressor:\n",
        "    \n",
        "    def __init__(self, lr = 0.01, itr=10000, verbose=1, metric=None):\n",
        "        self.lr = lr\n",
        "        self.itr = itr\n",
        "        self.history = {'errors':[], 'weights':[]}\n",
        "        self.verbose = verbose\n",
        "        self.metric = metric\n",
        "    \n",
        "    def fit(self, x, y):\n",
        "        self.x = x\n",
        "        self.y = y\n",
        "        self.w = self.init_weights()\n",
        "        self.fit_data()\n",
        "    \n",
        "    def init_weights(self):\n",
        "        return np.random.randn(self.x.shape[1])\n",
        "    \n",
        "    def fit_data(self):\n",
        "        for i in range(self.itr):\n",
        "            self.history['weights'].append(np.copy(self.w))\n",
        "            gradient, error = self.get_gradient()\n",
        "            if i% 100 == 0 and self.verbose>0: print(\"Iterations: %d -Error : %.4f\" %(i, error))\n",
        "            self.w -= (self.lr * gradient)\n",
        "            self.history['errors'].append(error)\n",
        "            \n",
        "    def _weights(self):\n",
        "        return self.w\n",
        "    \n",
        "    def _history(self):\n",
        "        return self.history\n",
        "            \n",
        "    def predict(self, x):\n",
        "        print(self.w)\n",
        "        return x.dot(self.w)\n",
        "    \n",
        "    def evaluate(self, x, y):\n",
        "        pass\n",
        "    \n",
        "    def get_gradient(self):\n",
        "        y_estimate = self.x.dot(self.w).flatten()\n",
        "        error = self.y.flatten() - y_estimate\n",
        "        mse =  (error ** 2).sum()/len(self.x)\n",
        "        gradient = (-1.0/len(self.x)) * error.dot(self.x)\n",
        "        return gradient, mse\n",
        "        \n"
      ],
      "execution_count": 0,
      "outputs": []
    },
    {
      "cell_type": "code",
      "metadata": {
        "id": "i-e3ZSmbnkhQ",
        "colab_type": "code",
        "colab": {}
      },
      "source": [
        "class KMeans:\n",
        "    \n",
        "    def fit(self, x, K, iterations = 1000):\n",
        "        self.x, self.K,  self.iterations = x, K, iterations\n",
        "        self.length, self.num_feat = x.shape\n",
        "        self.init_centroids()\n",
        "        self.data_centroids = np.zeros(self.length)\n",
        "        self.fit_data()\n",
        "    \n",
        "    def init_centroids(self):\n",
        "        self.centroids = self.x[np.random.choice(self.length, self.K, replace=False)]\n",
        "        \n",
        "    def get_centroids(self):\n",
        "        return self.centroids\n",
        "    \n",
        "    def find_clossest_centroid(self):\n",
        "        for i in range(self.length):\n",
        "            distance = np.sqrt(((self.centroids - self.x[i])**2).sum(axis=1))\n",
        "            self.data_centroids[i] = np.argmin(distance)\n",
        "        self.data_centroids = self.data_centroids.astype(int)\n",
        "            \n",
        "    def compute_new_centroids(self):\n",
        "        centroids_freq = np.zeros(self.K)\n",
        "        centroid_sum = np.zeros(shape=(self.K,self.num_feat))\n",
        "        for i in range(self.length):\n",
        "            idx = self.data_centroids[i]\n",
        "            centroids_freq[idx] += 1;\n",
        "            centroid_sum[idx] +=  self.x[i];\n",
        "        self.new_centroid = centroid_sum / centroids_freq[:,None]\n",
        "\n",
        "    def update_centroid(self):\n",
        "        self.centroids = self.new_centroid\n",
        "        \n",
        "    def fit_data(self):\n",
        "        for i in range(self.iterations):\n",
        "            self.find_clossest_centroid()\n",
        "            self.compute_new_centroids()\n",
        "            self.update_centroid()\n",
        "    \n",
        "    def get_data_centroids(self):\n",
        "        return self.data_centroids\n",
        "\n",
        "\n"
      ],
      "execution_count": 0,
      "outputs": []
    }
  ]
}